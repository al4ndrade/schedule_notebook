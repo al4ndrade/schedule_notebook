{
 "cells": [
  {
   "cell_type": "code",
   "execution_count": 128,
   "metadata": {},
   "outputs": [],
   "source": [
    "from datetime import datetime \n",
    "from datetime import timedelta\n"
   ]
  },
  {
   "cell_type": "code",
   "execution_count": 129,
   "metadata": {},
   "outputs": [],
   "source": [
    "class Maestro:\n",
    "    def __init__(self, name, age, gender, subjects):\n",
    "\n",
    "        assert isinstance(age, int), 'Ponte vergas' \n",
    "        assert gender in ('M', 'F')\n",
    "        assert isinstance(name, str)\n",
    "        assert isinstance(subjects, list), '¡Ponte vergas!'\n",
    "\n",
    "        for si in subjects:\n",
    "            assert isinstance(si, str)\n",
    "\n",
    "        self.name = name\n",
    "        self.age = age\n",
    "        self.gender = gender\n",
    "        self.subjects = subjects\n",
    "        self.schedule = list()\n",
    "        self.nr_schedule = list()\n",
    "        self.ex_schedule = list()\n",
    "        self.rehearsal_schedule = list()\n",
    "       \n",
    "\n",
    "    def print(self):\n",
    "\n",
    "        print(self.name)\n",
    "        print(self.age)\n",
    "        print(self.gender)\n",
    "        print(self.subjects)\n",
    "\n",
    "    def print_schedule(self):\n",
    "        print('Lecciones:')\n",
    "        for si in self.schedule:\n",
    "            si[0].print()\n",
    "            print('Alumno: {} Id: {} \\nSalon: {} \\n'.format(si[1], si[2], si[3]))\n",
    "        print('Nonrecurrent')\n",
    "        for si in self.nr_schedule:\n",
    "            si[0].print()\n",
    "            print('Alumno: {} Id: {} \\nSalon: {} \\n'.format(si[1], si[2], si[3]))\n",
    "        print('Ensayos')\n",
    "        for si in self.rehearsal_schedule:\n",
    "            si[0].print()\n",
    "            print('Salon: ',si[1])\n",
    "        print('\\nCanceled dates')\n",
    "        for si in self.ex_schedule:\n",
    "            si[0].print()\n",
    "            print('Alumno: {} Id: {} \\nSalon: {} \\n'.format(si[1], si[2], si[3]))\n",
    "            \n",
    "            \n",
    "    def print_bussyList(self):\n",
    "        for bl in self.bussyList:\n",
    "            print('{}, {}'.format(bl[0], bl[1]))\n",
    "            \n",
    "    def print_wholeInfo(self):\n",
    "        for wi in self.wholeInfo:\n",
    "            print('Alumno: {}, ID: {}, Salon: {}, Horario: {}, {}'. format(wi[1], wi[2], wi[3], wi[0].start, wi[0].end))\n",
    "\n",
    "    def new_appointment(self, lecture_object, alumno_name, alumno_id, classroom_num, recurrent):\n",
    "        assert isinstance(lecture_object, Lecture)\n",
    "\n",
    "        n_lecture_object = Lecture(lecture_object.subject, lecture_object.start.strftime(\"%Y/%m/%d,%H:%M\"), \n",
    "                                   lecture_object.end.strftime(\"%Y/%m/%d,%H:%M\"),\n",
    "                                   lecture_object.endDate.strftime(\"%Y/%m/%d,%H:%M\"),\n",
    "                                   lecture_object.status)\n",
    "        \n",
    "        if n_lecture_object.subject.lower() != 'ensayo':\n",
    "            if recurrent:\n",
    "                self.schedule.append([n_lecture_object, alumno_name, alumno_id, classroom_num, recurrent])\n",
    "            else:\n",
    "                self.nr_schedule.append([n_lecture_object, alumno_name, alumno_id, classroom_num, recurrent])\n",
    "        else:\n",
    "            self.rehearsal_schedule.append([n_lecture_object, classroom_num, recurrent])\n",
    "        \n",
    "            "
   ]
  },
  {
   "cell_type": "code",
   "execution_count": 130,
   "metadata": {},
   "outputs": [],
   "source": [
    "class Lecture:\n",
    "\n",
    "    def __init__(self,subject, start_time, end_time, end_date, status):\n",
    "        '''\n",
    "        status indica si la clase está activa o cancelada\n",
    "        1 activa, 2 cancelada por alumno, 3 cancelada por maestro, 4 cancelada, 5 cancelada por falta de pago\n",
    "        '''\n",
    "        \n",
    "        days = ['Lunes', 'Martes', 'Miercoles', 'Jueves', 'Viernes', 'Sabado', 'Domingo']\n",
    "        \n",
    "        \n",
    "        self.subject = subject\n",
    "        self.start = datetime.strptime(start_time, '%Y/%m/%d,%H:%M')\n",
    "        self.end = datetime.strptime(end_time, '%Y/%m/%d,%H:%M')\n",
    "        self.dayNumber = self.start.weekday()\n",
    "        self.dayName = days[self.dayNumber]\n",
    "        self.startTime = datetime.strptime(self.start.strftime('%H:%M'), '%H:%M')\n",
    "        self.endTime = datetime.strptime(self.end.strftime('%H:%M'), '%H:%M')\n",
    "        if end_date == False:\n",
    "            self.endDate = datetime.strptime('3000/01/01,0:00', '%Y/%m/%d,%H:%M')\n",
    "        else:\n",
    "            self.endDate = datetime.strptime(end_date, '%Y/%m/%d,%H:%M')\n",
    "        self.status = status \n",
    "\n",
    "    def print(self):\n",
    "        \n",
    "        status_code = ['Active', 'Canceled by Client', 'Canceled by Instructor', 'Canceled', 'Canceled, due to payment']\n",
    "        \n",
    "        print(self.subject)\n",
    "        #print('Day: ',self.dayNumber)\n",
    "        print(self.dayName)\n",
    "        print(datetime.strftime(self.start,'%Y/%m/%d,%H:%M'))\n",
    "        print(datetime.strftime(self.end,'%Y/%m/%d,%H:%M'))\n",
    "        print(status_code[self.status])"
   ]
  },
  {
   "cell_type": "code",
   "execution_count": 131,
   "metadata": {},
   "outputs": [],
   "source": [
    "class Classroom:\n",
    "    \n",
    "    def __init__(self, number, subjects):\n",
    "        \n",
    "        assert isinstance(number, int), 'number tiene q ser int'\n",
    "        assert isinstance(subjects, list), 'subjects tiene q ser list'\n",
    "        \n",
    "        for si in subjects:\n",
    "            assert isinstance(si, str), 'elements of subjects must be str'\n",
    "        \n",
    "        self.number = number\n",
    "        self.subjects = subjects\n",
    "        self.schedule = list()\n",
    "        self.nr_schedule = list()\n",
    "        self.ex_schedule = list()\n",
    "\n",
    "    def print_schedule(self):\n",
    "        for si in self.schedule:\n",
    "            si[0].print()\n",
    "            print('Maestro: {}\\nAlumno: {} ID: {} \\n'.format(si[1], si[2], si[3]))\n",
    "        print('Nonrecurrent')\n",
    "        for si in self.nr_schedule:\n",
    "            si[0].print()\n",
    "            print('Maestro: {}\\nAlumno: {} ID: {} \\n'.format(si[1], si[2], si[3]))\n",
    "        print('Canceled Dates')\n",
    "        for si in self.ex_schedule:\n",
    "            si[0].print()\n",
    "            print('Maestro: {}\\nAlumno: {} ID: {} \\n'.format(si[1], si[2], si[3]))\n",
    "            \n",
    "    def print_bussyList(self):\n",
    "        for bl in self.bussyList:\n",
    "            print('{}, {}'.format(bl[0], bl[1]))\n",
    "        \n",
    "    def print(self):\n",
    "            \n",
    "        print(self.number)\n",
    "        print(self.subjects)\n",
    "            \n",
    "    def new_appointment(self, lecture_object, maestro_name, alumno_name, alumno_id, recurrent):\n",
    "            \n",
    "        assert isinstance(lecture_object, Lecture)\n",
    "            \n",
    "        n_lecture_object = Lecture(lecture_object.subject, lecture_object.start.strftime(\"%Y/%m/%d,%H:%M\"), \n",
    "                                   lecture_object.end.strftime(\"%Y/%m/%d,%H:%M\"),\n",
    "                                   lecture_object.endDate.strftime(\"%Y/%m/%d,%H:%M\"),\n",
    "                                   lecture_object.status)\n",
    "        \n",
    "        if recurrent:\n",
    "            self.schedule.append([n_lecture_object, maestro_name, alumno_name, alumno_id, recurrent])\n",
    "        \n",
    "        else:\n",
    "            self.nr_schedule.append([n_lecture_object, maestro_name, alumno_name, alumno_id, recurrent])\n",
    "         "
   ]
  },
  {
   "cell_type": "code",
   "execution_count": 132,
   "metadata": {},
   "outputs": [],
   "source": [
    "class Alumno:\n",
    "    def __init__(self, name, last_name, number_id):\n",
    "        \n",
    "        self.name = name\n",
    "        self.last_name = last_name\n",
    "        self.number_id = number_id\n",
    "        self.schedule = list()\n",
    "        self.nr_schedule = list()\n",
    "        self.ex_schedule = list()\n",
    "     \n",
    "    def print(self):\n",
    "        \n",
    "        print(self.name)\n",
    "        print(self.last_name)\n",
    "        print(self.number_id)\n",
    "    \n",
    "    def print_schedule(self):\n",
    "        for si in self.schedule:\n",
    "            si[0].print()\n",
    "            print('Maestro: {} Salón: {} \\n'.format(si[1],si[2]))\n",
    "        print('Nonrecurrent')\n",
    "        for si in self.nr_schedule:\n",
    "            si[0].print()\n",
    "            print('Maestro: {} Salón: {} \\n'.format(si[1],si[2]))\n",
    "        print('Canceled Dates')\n",
    "        for si in self.ex_schedule:\n",
    "            si[0].print()\n",
    "            print('Maestro: {} Salón: {} \\n'.format(si[1],si[2]))\n",
    "            \n",
    "    def print_bussyList(self):\n",
    "        for bl in self.bussyList:\n",
    "            print('{}, {}'.format(bl[0], bl[1]))\n",
    "\n",
    "    def new_appointment(self, lecture_object, maestro_name, classroom_num, recurrent):\n",
    "            \n",
    "        assert isinstance(lecture_object, Lecture)\n",
    "        \n",
    "        n_lecture_object = Lecture(lecture_object.subject, lecture_object.start.strftime(\"%Y/%m/%d,%H:%M\"), \n",
    "                                   lecture_object.end.strftime(\"%Y/%m/%d,%H:%M\"),\n",
    "                                   lecture_object.endDate.strftime(\"%Y/%m/%d,%H:%M\"),\n",
    "                                   lecture_object.status)\n",
    "        \n",
    "        if recurrent:\n",
    "            self.schedule.append([n_lecture_object, maestro_name, classroom_num, recurrent])\n",
    "        \n",
    "        else:\n",
    "            self.nr_schedule.append([n_lecture_object, maestro_name, classroom_num, recurrent])\n",
    "    "
   ]
  },
  {
   "cell_type": "code",
   "execution_count": 133,
   "metadata": {},
   "outputs": [],
   "source": [
    "def check_overlap(lecture_object, schedule, nr_schedule, ex_schedule):\n",
    "    for s in schedule:\n",
    "        if s[0].endDate <= lecture_object.start:\n",
    "            continue\n",
    "        else:\n",
    "            if lecture_object.dayNumber != s[0].dayNumber or (lecture_object.endTime <= s[0].startTime or lecture_object.startTime >= s[0].endTime):\n",
    "                print('checando disponibilidad')\n",
    "            elif ex_schedule:\n",
    "                for ex in ex_schedule:\n",
    "                    if ex[0].startTime == s[0].startTime and ex[0].endTime == s[0].endTime:\n",
    "                        print('se puede programar en horario cancelado')\n",
    "                        break\n",
    "            else:\n",
    "                print('{} con horario ocupado')\n",
    "                return 1\n",
    "                break\n",
    "     \n",
    "    print ('2nd for')\n",
    "    for s in nr_schedule:\n",
    "        if s[0].dayName != lecture_object.dayName:\n",
    "            print('yeah diferent day')\n",
    "            continue\n",
    "        else:\n",
    "            print('mmm same day, let me check')\n",
    "            if lecture_object.endTime <= s[0].startTime or lecture_object.startTime >= s[0].endTime:\n",
    "                print('checando disponibilidad')\n",
    "                \n",
    "            elif ex_schedule:\n",
    "                for ex in ex_schedule:\n",
    "                    if ex[0].startTime == s[0].startTime and ex[0].endTime == s[0].endTime:\n",
    "                        print('Se puede programar en horario cancelado')\n",
    "                        break\n",
    "            else:\n",
    "                print('sorry horario ocupado')\n",
    "                return 1\n",
    "                break\n"
   ]
  },
  {
   "cell_type": "code",
   "execution_count": 134,
   "metadata": {},
   "outputs": [],
   "source": [
    "def make_appointment(maestro, classroom, alumno, lecture_object, recurrent=False):\n",
    "    flag = []\n",
    "    print('recurrent ',recurrent)\n",
    "    \n",
    "    \n",
    "    if maestro.schedule:\n",
    "        if check_overlap(lecture_object, maestro.schedule, maestro.nr_schedule, maestro.ex_schedule):\n",
    "            flag.append(1)  \n",
    "    else:\n",
    "        print('1er horario de ', maestro.name)\n",
    "            \n",
    "    if classroom.schedule:\n",
    "        if check_overlap(lecture_object, classroom.schedule, classroom.nr_schedule, classroom.ex_schedule):\n",
    "            flag.append(1)       \n",
    "    else:\n",
    "        print('1er horario en ', classroom.number )\n",
    "    \n",
    "    if alumno != 'None':\n",
    "        if alumno.schedule:\n",
    "            if check_overlap(lecture_object, alumno.schedule, alumno.nr_schedule, alumno.ex_schedule):\n",
    "                flag.append(1)       \n",
    "        else:\n",
    "            print('primer horario de ',alumno.name)\n",
    "    \n",
    "    if not flag:\n",
    "        print('making appointment')\n",
    "        if alumno == 'None':\n",
    "            alumnoName = 'None'\n",
    "            alumnoId = 'None'\n",
    "            maestro.new_appointment(lecture_object, alumnoName, alumnoId, classroom.number, recurrent)\n",
    "            classroom.new_appointment(lecture_object, maestro.name, alumnoName, alumnoId, recurrent)\n",
    "        \n",
    "        else:\n",
    "            if lecture_object.subject.lower() != 'ensayo':\n",
    "                maestro.new_appointment(lecture_object, alumno.name, alumno.number_id, classroom.number, recurrent)\n",
    "                classroom.new_appointment(lecture_object, maestro.name, alumno.name, alumno.number_id, recurrent)\n",
    "                alumno.new_appointment(lecture_object, maestro.name, classroom.number, recurrent)\n",
    "            else:\n",
    "                alumno.new_appointment(lecture_object, maestro.name, classroom.number, recurrent)\n",
    "                \n",
    "    else:\n",
    "        print('Could not make appointments')"
   ]
  },
  {
   "cell_type": "code",
   "execution_count": 135,
   "metadata": {},
   "outputs": [],
   "source": [
    "def cancel_r_appointment(maestro, classroom, alumno, lecture, recurrent):\n",
    "    \n",
    "    for i, s in enumerate(maestro.schedule):\n",
    "        print('s[0] day {}, lecture day {}'.format(s[0].dayNumber, lecture.dayNumber))\n",
    "        print('s[0] start {}, lecture start {}'.format(s[0].start, lecture.start))\n",
    "        print('s[0] end {}, lecture end {}'.format(s[0].end, lecture.end))\n",
    "        if (s[0].dayNumber == lecture.dayNumber and s[0].start == lecture.start and s[0].end == lecture.end):\n",
    "            del maestro.schedule[i]\n",
    "            print('cancelando cita')\n",
    "        else:\n",
    "            print ('No es cita de ', maestro.name)\n",
    "        \n",
    "    for i, s in enumerate(classroom.schedule):\n",
    "        if (s[0].dayNumber == lecture.dayNumber and s[0].start == lecture.start and s[0].end == lecture.end):\n",
    "            del classroom.schedule[i]\n",
    "            print('cancelando cita')\n",
    "        else:\n",
    "            print ('No es cita en salon ', classroom.number)\n",
    "    \n",
    "    for i, s in enumerate(alumno.schedule):\n",
    "        if (s[0].dayNumber == lecture.dayNumber and s[0].start == lecture.start and s[0].end == lecture.end):\n",
    "            del alumno.schedule[i]\n",
    "            print('cancelando cita')\n",
    "        else:\n",
    "            print ('No es cita para ', alumno.name)\n",
    "            \n",
    "        \n",
    "        "
   ]
  },
  {
   "cell_type": "code",
   "execution_count": 136,
   "metadata": {},
   "outputs": [],
   "source": [
    "def cancel_nr_appointment(maestro, classroom, alumno, lecture, recurrent):\n",
    "    \n",
    "    for i, s in enumerate(maestro.nr_schedule):\n",
    "        print('s[0] day {}, lecture day {}'.format(s[0].dayNumber, lecture.dayNumber))\n",
    "        print('s[0] start {}, lecture start {}'.format(s[0].start, lecture.start))\n",
    "        print('s[0] end {}, lecture end {}'.format(s[0].end, lecture.end))\n",
    "        if (s[0].dayNumber == lecture.dayNumber and s[0].start == lecture.start and s[0].end == lecture.end):\n",
    "            del maestro.nr_schedule[i]\n",
    "            print('cancelando cita')\n",
    "        else:\n",
    "            print ('No es cita de ', maestro.name)\n",
    "        \n",
    "    for i, s in enumerate(classroom.nr_schedule):\n",
    "        if (s[0].dayNumber == lecture.dayNumber and s[0].start == lecture.start and s[0].end == lecture.end):\n",
    "            del classroom.nr_schedule[i]\n",
    "            print('cancelando cita')\n",
    "        else:\n",
    "            print ('No es cita en salon ', classroom.number)\n",
    "    \n",
    "    for i, s in enumerate(alumno.nr_schedule):\n",
    "        if (s[0].dayNumber == lecture.dayNumber and s[0].start == lecture.start and s[0].end == lecture.end):\n",
    "            del alumno.nr_schedule[i]\n",
    "            print('cancelando cita')\n",
    "        else:\n",
    "            print ('No es cita para ', alumno.name)"
   ]
  },
  {
   "cell_type": "code",
   "execution_count": 137,
   "metadata": {},
   "outputs": [],
   "source": [
    "def cancel_appointment(maestro, classroom, alumno, lecture, recurrent):\n",
    "    if recurrent:\n",
    "        cancel_r_appointment(maestro, classroom, alumno, lecture, recurrent)\n",
    "    else:\n",
    "        cancel_nr_appointment(maestro, classroom, alumno, lecture, recurrent)"
   ]
  },
  {
   "cell_type": "code",
   "execution_count": 138,
   "metadata": {},
   "outputs": [],
   "source": [
    "def cancel_single_appointment(maestro, classroom, alumno, lecture, recurrent):\n",
    "    if maestro.ex_schedule:\n",
    "        for es in maestro.ex_schedule:\n",
    "            if es[0] == lecture and es[1] == alumno.name and es[2] == alumno.number_id and es[3] == classroom.number:\n",
    "                print('Already canceled')\n",
    "                break\n",
    "    \n",
    "    else:\n",
    "        if recurrent:\n",
    "            maestro.ex_schedule.append([lecture, alumno.name, alumno.number_id, classroom.number, recurrent])\n",
    "            classroom.ex_schedule.append([lecture, maestro.name, alumno.name, alumno.number_id, recurrent])\n",
    "            alumno.ex_schedule.append([lecture, maestro.name, classroom.number, recurrent])\n",
    "        else:\n",
    "            cancel_nr_appointment(maestro, classroom, alumno, lecture, recurrent)\n",
    "    "
   ]
  },
  {
   "cell_type": "code",
   "execution_count": 139,
   "metadata": {},
   "outputs": [],
   "source": [
    "def count_monthly_lessons():\n",
    "    pass\n",
    "    "
   ]
  },
  {
   "cell_type": "code",
   "execution_count": 140,
   "metadata": {},
   "outputs": [],
   "source": [
    "Irwin = Maestro('Irwin', 35, 'M', ['drums', 'bass', 'gtr', 'keys'])\n",
    "Al = Maestro('Al', 40, 'M', ['gtr', 'bass', 'keys'])\n",
    "Andres = Maestro('Andres', 25, 'M', ['gtr', 'bass', 'keys', 'drums'])\n",
    "Alemu = Maestro('Alemu', 33, 'F', ['canto'])\n",
    "\n",
    "hell = Classroom(6, ['ensayo', 'drums', 'keys', 'canto', 'gtr','bass'])\n",
    "heaven = Classroom(7, ['ensayo', 'drums', 'keys', 'canto', 'gtr','bass'])\n",
    "salon1 = Classroom(1, ['drums', 'keys', 'canto', 'LittleWing'])\n",
    "salon2 = Classroom(2, ['drums'])\n",
    "salon3 = Classroom(3, ['gtr', 'bass', 'drums'])\n",
    "salon4 = Classroom(4, ['gtr', 'bass'])\n",
    "salon5 = Classroom(5, ['keys', 'canto'])\n",
    "\n",
    "l1 = Lecture('gtr', '2019/01/01,4:15', '2019/01/01,5:00', '2019/06/07,5:00', 0)\n",
    "l2 = Lecture('bass', '2019/01/08,4:15', '2019/01/08,5:00', '2019/01/08,5:00', 0)\n",
    "l3 = Lecture('drums', '2019/01/01,4:00', '2019/01/01,4:45', '2019/01/01,4:45', 0)\n",
    "l4 = Lecture('gtr', '2019/01/07,4:15', '2019/01/07,5:00', '2019/01/07,5:00', 0)\n",
    "l5 = Lecture('canto', '2019/01/01,5:15', '2019/01/01,6:00', '2019/01/01,6:00', 0)\n",
    "e1 = Lecture('ensayo', '2019/01/01,4:30', '2019/01/01,7:30', '2019/01/01,7:30', 0)\n",
    "e2 = Lecture('ensayo', '2019/02/13,5:00', '2019/02/13,8:00', '2019/01/03,8:00', 0)\n",
    "l6 = Lecture('gtr', '2019/01/03,6:00', '2019/01/03,6:45', '2019/01/03,6:45', 0)\n",
    "l7 = Lecture('keys', '2019/01/07,7:15', '2019/01/07,8:00', '2019/01/07,8:00', 0)\n",
    "l8 = Lecture('gtr', '2019/02/07,7:15', '2019/02/07,8:00', '2019/01/07,8:00', 0)\n",
    "l1b = Lecture('gtr', '2019/06/11,4:15', '2019/06/11,5:00', '2019/07/03,5:00', 0)\n",
    "cl1 = Lecture('gtr', '2019/01/22,4:15', '2019/01/22,5:00', '2019/06/07,5:00', 1)\n",
    "s1 = Lecture('gtr', '2019/01/22,4:15', '2019/01/22,5:00', '2019/01/07,5:00', 0)\n",
    "\n",
    "Xime = Alumno('Ximena', 'Ramirez', 12)\n",
    "Constanza = Alumno('Constanza', 'Garrido', 34)\n",
    "Bere = Alumno('Bere', 'Muniz', 20)\n",
    "Nat = Alumno('Natalia', 'Barrera', 3)"
   ]
  },
  {
   "cell_type": "code",
   "execution_count": 141,
   "metadata": {},
   "outputs": [
    {
     "name": "stdout",
     "output_type": "stream",
     "text": [
      "recurrent  True\n",
      "1er horario de  Al\n",
      "1er horario en  4\n",
      "primer horario de  Natalia\n",
      "making appointment\n"
     ]
    }
   ],
   "source": [
    "make_appointment(Al, salon4, Nat, l4, True)"
   ]
  },
  {
   "cell_type": "code",
   "execution_count": 142,
   "metadata": {},
   "outputs": [
    {
     "name": "stdout",
     "output_type": "stream",
     "text": [
      "recurrent  False\n",
      "2nd for\n",
      "1er horario en  3\n",
      "primer horario de  Bere\n",
      "making appointment\n"
     ]
    }
   ],
   "source": [
    "make_appointment(Al, salon3, Bere, l8, False)"
   ]
  },
  {
   "cell_type": "code",
   "execution_count": 143,
   "metadata": {},
   "outputs": [
    {
     "name": "stdout",
     "output_type": "stream",
     "text": [
      "recurrent  True\n",
      "2nd for\n",
      "yeah diferent day\n",
      "1er horario en  6\n",
      "primer horario de  Constanza\n",
      "making appointment\n"
     ]
    }
   ],
   "source": [
    "make_appointment(Al, hell, Constanza, cl1, True)"
   ]
  },
  {
   "cell_type": "code",
   "execution_count": 144,
   "metadata": {},
   "outputs": [
    {
     "name": "stdout",
     "output_type": "stream",
     "text": [
      "recurrent  True\n",
      "{} con horario ocupado\n",
      "{} con horario ocupado\n",
      "primer horario de  Ximena\n",
      "Could not make appointments\n"
     ]
    }
   ],
   "source": [
    "make_appointment(Al, hell, Xime, cl1, True)"
   ]
  },
  {
   "cell_type": "code",
   "execution_count": 145,
   "metadata": {},
   "outputs": [
    {
     "name": "stdout",
     "output_type": "stream",
     "text": [
      "recurrent  True\n",
      "checando disponibilidad\n",
      "2nd for\n",
      "yeah diferent day\n",
      "1er horario en  7\n",
      "making appointment\n"
     ]
    }
   ],
   "source": [
    "make_appointment(Al, heaven, 'None', e2, True)"
   ]
  },
  {
   "cell_type": "code",
   "execution_count": 17,
   "metadata": {},
   "outputs": [],
   "source": [
    "cancel_single_appointment(Al, hell, Constanza, s1, True)"
   ]
  },
  {
   "cell_type": "code",
   "execution_count": 151,
   "metadata": {},
   "outputs": [
    {
     "name": "stdout",
     "output_type": "stream",
     "text": [
      "Lecciones:\n",
      "gtr\n",
      "Lunes\n",
      "2019/01/07,04:15\n",
      "2019/01/07,05:00\n",
      "Active\n",
      "Alumno: Natalia Id: 3 \n",
      "Salon: 4 \n",
      "\n",
      "gtr\n",
      "Martes\n",
      "2019/01/22,04:15\n",
      "2019/01/22,05:00\n",
      "Canceled by Client\n",
      "Alumno: Constanza Id: 34 \n",
      "Salon: 6 \n",
      "\n",
      "Nonrecurrent\n",
      "gtr\n",
      "Jueves\n",
      "2019/02/07,07:15\n",
      "2019/02/07,08:00\n",
      "Active\n",
      "Alumno: Bere Id: 20 \n",
      "Salon: 3 \n",
      "\n",
      "Ensayos\n",
      "ensayo\n",
      "Miercoles\n",
      "2019/02/13,05:00\n",
      "2019/02/13,08:00\n",
      "Active\n",
      "Salon:  7\n",
      "\n",
      "Canceled dates\n"
     ]
    }
   ],
   "source": [
    "Al.print_schedule()"
   ]
  },
  {
   "cell_type": "code",
   "execution_count": 147,
   "metadata": {},
   "outputs": [
    {
     "name": "stdout",
     "output_type": "stream",
     "text": [
      "recurrent  True\n",
      "checando disponibilidad\n",
      "2nd for\n",
      "yeah diferent day\n",
      "2nd for\n",
      "2nd for\n",
      "making appointment\n"
     ]
    }
   ],
   "source": [
    "make_appointment(Al, heaven, Nat, e2, True)"
   ]
  },
  {
   "cell_type": "code",
   "execution_count": 148,
   "metadata": {},
   "outputs": [
    {
     "name": "stdout",
     "output_type": "stream",
     "text": [
      "recurrent  True\n",
      "checando disponibilidad\n",
      "2nd for\n",
      "yeah diferent day\n",
      "2nd for\n",
      "primer horario de  Bere\n",
      "making appointment\n"
     ]
    }
   ],
   "source": [
    "make_appointment(Al, heaven, Bere, e2, True)"
   ]
  },
  {
   "cell_type": "code",
   "execution_count": 149,
   "metadata": {},
   "outputs": [
    {
     "name": "stdout",
     "output_type": "stream",
     "text": [
      "recurrent  True\n",
      "checando disponibilidad\n",
      "2nd for\n",
      "yeah diferent day\n",
      "2nd for\n",
      "primer horario de  Ximena\n",
      "making appointment\n"
     ]
    }
   ],
   "source": [
    "make_appointment(Al, heaven, Xime, e2, True)"
   ]
  },
  {
   "cell_type": "code",
   "execution_count": 153,
   "metadata": {},
   "outputs": [
    {
     "name": "stdout",
     "output_type": "stream",
     "text": [
      "ensayo\n",
      "Miercoles\n",
      "2019/02/13,05:00\n",
      "2019/02/13,08:00\n",
      "Active\n",
      "Maestro: Al Salón: 7 \n",
      "\n",
      "Nonrecurrent\n",
      "Canceled Dates\n"
     ]
    }
   ],
   "source": [
    "Xime.print_schedule()"
   ]
  },
  {
   "cell_type": "code",
   "execution_count": 21,
   "metadata": {},
   "outputs": [
    {
     "name": "stdout",
     "output_type": "stream",
     "text": [
      "2019/02/10,18:42\n",
      "<class 'str'>\n",
      "10\n",
      "2019-02-10 18:42:00\n",
      "<class 'datetime.datetime'>\n",
      "18:42\n",
      "<class 'str'>\n"
     ]
    }
   ],
   "source": [
    "hoy = datetime.now()\n",
    "hoystr = hoy.strftime(\"%Y/%m/%d,%H:%M\")\n",
    "print(hoystr)\n",
    "print(type(hoystr))\n",
    "print(hoy.day)\n",
    "\n",
    "hoydateTime = datetime.strptime(hoystr, \"%Y/%m/%d,%H:%M\")\n",
    "print(hoydateTime)\n",
    "print(type(hoydateTime))\n",
    "hoyjustTime = hoy.strftime(\"%H:%M\")\n",
    "print(hoyjustTime)\n",
    "print(type(hoyjustTime))"
   ]
  },
  {
   "cell_type": "code",
   "execution_count": 22,
   "metadata": {},
   "outputs": [
    {
     "name": "stdout",
     "output_type": "stream",
     "text": [
      "2019-02-11 00:42:43.650320\n"
     ]
    }
   ],
   "source": [
    "todayis = datetime.utcnow()\n",
    "print(todayis)"
   ]
  },
  {
   "cell_type": "code",
   "execution_count": 23,
   "metadata": {},
   "outputs": [
    {
     "name": "stdout",
     "output_type": "stream",
     "text": [
      "28\n"
     ]
    }
   ],
   "source": [
    "import calendar\n",
    "\n",
    "calendar.monthrange(hoy.year, hoy.month)\n",
    "\n",
    "days_on_the_current_month=calendar.monthrange(hoy.year, hoy.month)[1]\n",
    "\n",
    "print(days_on_the_current_month)"
   ]
  },
  {
   "cell_type": "code",
   "execution_count": 24,
   "metadata": {},
   "outputs": [
    {
     "ename": "SyntaxError",
     "evalue": "invalid syntax (<ipython-input-24-d7bfa07ee7e8>, line 1)",
     "output_type": "error",
     "traceback": [
      "\u001b[0;36m  File \u001b[0;32m\"<ipython-input-24-d7bfa07ee7e8>\"\u001b[0;36m, line \u001b[0;32m1\u001b[0m\n\u001b[0;31m    numpy.logical_or  numpy.logical_and\u001b[0m\n\u001b[0m                          ^\u001b[0m\n\u001b[0;31mSyntaxError\u001b[0m\u001b[0;31m:\u001b[0m invalid syntax\n"
     ]
    }
   ],
   "source": [
    "numpy.logical_or  numpy.logical_and"
   ]
  }
 ],
 "metadata": {
  "kernelspec": {
   "display_name": "Python 3",
   "language": "python",
   "name": "python3"
  },
  "language_info": {
   "codemirror_mode": {
    "name": "ipython",
    "version": 3
   },
   "file_extension": ".py",
   "mimetype": "text/x-python",
   "name": "python",
   "nbconvert_exporter": "python",
   "pygments_lexer": "ipython3",
   "version": "3.7.2"
  }
 },
 "nbformat": 4,
 "nbformat_minor": 2
}
